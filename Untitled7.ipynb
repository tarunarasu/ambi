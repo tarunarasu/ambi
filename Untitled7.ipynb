{
  "nbformat": 4,
  "nbformat_minor": 0,
  "metadata": {
    "colab": {
      "provenance": []
    },
    "kernelspec": {
      "name": "python3",
      "display_name": "Python 3"
    },
    "language_info": {
      "name": "python"
    }
  },
  "cells": [
    {
      "cell_type": "code",
      "execution_count": 1,
      "metadata": {
        "id": "twQ2_LMbp5Qa"
      },
      "outputs": [],
      "source": [
        "from pandas import read_excel\n",
        "import pandas as pd\n",
        "# define the dataset location\n",
        "# load the csv file as a data frame\n",
        "dataframe = pd.read_csv('train.csv')"
      ]
    },
    {
      "cell_type": "code",
      "source": [
        "context_list=list(dataframe['context'].values)\n",
        "print(context_list[0])"
      ],
      "metadata": {
        "colab": {
          "base_uri": "https://localhost:8080/"
        },
        "id": "c0M78zkowx3I",
        "outputId": "aaced665-b678-4d47-ad32-676720437e94"
      },
      "execution_count": 2,
      "outputs": [
        {
          "output_type": "stream",
          "name": "stdout",
          "text": [
            "For another ,  many of the genes carried by plasmids  such as those specifying resistance to the antibiotics kanamycin or penicillin  are flanked by special DNA which enables them to jump from plasmid to chromosome and back ,  or from one plasmid to another .  Again ,  these jumping genes ,  or transposons ,  cause chromosomal fluctuations .  Moreover , the chromosomes of some strains of E. coli contain enigmatic lengths of DNA ( insertion sequences ) which code for no known product but can move about the chromosome during bacterial multiplication , <head>activating</head> or silencing genes . They are present in plasmids ,  too .  Finally ,  the chromosome is not even intrinsically stable  it mutates .  \n"
          ]
        }
      ]
    },
    {
      "cell_type": "code",
      "source": [],
      "metadata": {
        "id": "BSTOlK7Vw6RI"
      },
      "execution_count": 8,
      "outputs": []
    },
    {
      "cell_type": "code",
      "source": [],
      "metadata": {
        "id": "R602BZA3w-4t"
      },
      "execution_count": 73,
      "outputs": []
    },
    {
      "cell_type": "code",
      "source": [
        "print(dataframe['pos'][2])"
      ],
      "metadata": {
        "colab": {
          "base_uri": "https://localhost:8080/"
        },
        "id": "tT4cx0QIDa_3",
        "outputId": "fa28d8c3-9e56-40a0-c090-7c1eb495da18"
      },
      "execution_count": 3,
      "outputs": [
        {
          "output_type": "stream",
          "name": "stdout",
          "text": [
            "v\n"
          ]
        }
      ]
    },
    {
      "cell_type": "code",
      "source": [
        "pos_list=list(dataframe['pos'].values)\n",
        "print(pos_list[0])"
      ],
      "metadata": {
        "colab": {
          "base_uri": "https://localhost:8080/"
        },
        "id": "eD1qu77RxA5l",
        "outputId": "9154244d-df59-4b94-f96f-29a602338656"
      },
      "execution_count": 4,
      "outputs": [
        {
          "output_type": "stream",
          "name": "stdout",
          "text": [
            "v\n"
          ]
        }
      ]
    },
    {
      "cell_type": "code",
      "source": [
        "import nltk\n",
        "nltk.download('stopwords')\n",
        "nltk.download('punkt')\n",
        "from nltk.tokenize import sent_tokenize, word_tokenize\n",
        "from nltk.corpus import stopwords\n",
        " \n",
        "\n",
        "stopWords = set(stopwords.words('english'))\n",
        "\n",
        "\n",
        "\n",
        "for i in range(len(context_list)):\n",
        "  wordsFiltered = []\n",
        "  words = word_tokenize(context_list[i])\n",
        "  sentance = context_list[i]\n",
        "  stopWords = set(stopwords.words('english'))\n",
        "  words = word_tokenize(sentance)\n",
        "  wordsFiltered = []\n",
        "\n",
        "#Remove stopwords\n",
        "  for w in words:\n",
        "    if w not in stopWords:\n",
        "        wordsFiltered.append(w)\n",
        "\n",
        "  filtered_sentence = (\" \").join(wordsFiltered)\n",
        "  context_list[i]=filtered_sentence"
      ],
      "metadata": {
        "colab": {
          "base_uri": "https://localhost:8080/"
        },
        "id": "nepXzLFIxLFu",
        "outputId": "5a7908e5-aab3-4ee1-9d06-244def6b94bf"
      },
      "execution_count": 5,
      "outputs": [
        {
          "output_type": "stream",
          "name": "stderr",
          "text": [
            "[nltk_data] Downloading package stopwords to /root/nltk_data...\n",
            "[nltk_data]   Unzipping corpora/stopwords.zip.\n",
            "[nltk_data] Downloading package punkt to /root/nltk_data...\n",
            "[nltk_data]   Unzipping tokenizers/punkt.zip.\n"
          ]
        }
      ]
    },
    {
      "cell_type": "code",
      "source": [
        "print(context_list[0])"
      ],
      "metadata": {
        "colab": {
          "base_uri": "https://localhost:8080/"
        },
        "id": "RTnq2XAJ3R02",
        "outputId": "1bdea186-7042-4f36-c8ec-7919f01b3209"
      },
      "execution_count": 6,
      "outputs": [
        {
          "output_type": "stream",
          "name": "stdout",
          "text": [
            "For another , many genes carried plasmids specifying resistance antibiotics kanamycin penicillin flanked special DNA enables jump plasmid chromosome back , one plasmid another . Again , jumping genes , transposons , cause chromosomal fluctuations . Moreover , chromosomes strains E. coli contain enigmatic lengths DNA ( insertion sequences ) code known product move chromosome bacterial multiplication , < head > activating < /head > silencing genes . They present plasmids , . Finally , chromosome even intrinsically stable mutates .\n"
          ]
        }
      ]
    },
    {
      "cell_type": "code",
      "source": [
        "# define punctuation\n",
        "punctuations = '''!()-[]{};:'\"\\,.?@#$%^&*_~'''\n",
        "for i in range(len(context_list)):\n",
        "\n",
        "  my_str = context_list[i]\n",
        "\n",
        "  # To take input from the user\n",
        "\n",
        "  # remove punctuation from the string\n",
        "  no_punct = \"\"\n",
        "  for char in my_str:\n",
        "    if char not in punctuations:\n",
        "        no_punct = no_punct + char\n",
        "\n",
        "  # display the unpunctuated string\n",
        "  context_list[i]=no_punct"
      ],
      "metadata": {
        "id": "DJvO6lfIxsuN"
      },
      "execution_count": 7,
      "outputs": []
    },
    {
      "cell_type": "code",
      "source": [
        "print(context_list[0])"
      ],
      "metadata": {
        "colab": {
          "base_uri": "https://localhost:8080/"
        },
        "id": "Zd_h6lVl3fzv",
        "outputId": "b1a2eb11-0a9f-44e0-8eef-858c5811d24b"
      },
      "execution_count": 8,
      "outputs": [
        {
          "output_type": "stream",
          "name": "stdout",
          "text": [
            "For another  many genes carried plasmids specifying resistance antibiotics kanamycin penicillin flanked special DNA enables jump plasmid chromosome back  one plasmid another  Again  jumping genes  transposons  cause chromosomal fluctuations  Moreover  chromosomes strains E coli contain enigmatic lengths DNA  insertion sequences  code known product move chromosome bacterial multiplication  < head > activating < /head > silencing genes  They present plasmids   Finally  chromosome even intrinsically stable mutates \n"
          ]
        }
      ]
    },
    {
      "cell_type": "code",
      "source": [
        "len(context_list)"
      ],
      "metadata": {
        "colab": {
          "base_uri": "https://localhost:8080/"
        },
        "id": "F2kqdqS83xeJ",
        "outputId": "bfc0e854-3d6e-4d0c-ec2c-bf5129430a86"
      },
      "execution_count": 9,
      "outputs": [
        {
          "output_type": "execute_result",
          "data": {
            "text/plain": [
              "5987"
            ]
          },
          "metadata": {},
          "execution_count": 9
        }
      ]
    },
    {
      "cell_type": "code",
      "source": [
        "word_disg=[]\n",
        "for text in dataframe['word']:\n",
        "    word_disg.append(text)"
      ],
      "metadata": {
        "id": "VB4Zbz4mxyDi"
      },
      "execution_count": 10,
      "outputs": []
    },
    {
      "cell_type": "code",
      "source": [
        "len(word_disg)\n",
        "print(word_disg[3])"
      ],
      "metadata": {
        "colab": {
          "base_uri": "https://localhost:8080/"
        },
        "id": "hXeekLP2x1Tp",
        "outputId": "1b6c59f8-e8db-4361-e19a-3ae328c7759a"
      },
      "execution_count": 11,
      "outputs": [
        {
          "output_type": "stream",
          "name": "stdout",
          "text": [
            "activate\n"
          ]
        }
      ]
    },
    {
      "cell_type": "code",
      "source": [
        "import re\n",
        "\n",
        "def cleanhtml(raw_html):\n",
        "  cleanr = re.compile('<.*?>')\n",
        "  cleantext = re.sub(cleanr, '', raw_html)\n",
        "  return cleantext"
      ],
      "metadata": {
        "id": "40GEhpWkx71s"
      },
      "execution_count": 12,
      "outputs": []
    },
    {
      "cell_type": "code",
      "source": [
        "context_list_without_html=[]\n",
        "for i in range (len(context_list)):\n",
        "  context_list_without_html.append(cleanhtml(context_list[i]))"
      ],
      "metadata": {
        "id": "2cD__5KLyIUD"
      },
      "execution_count": 13,
      "outputs": []
    },
    {
      "cell_type": "code",
      "source": [
        "context_list_without_html[0]\n"
      ],
      "metadata": {
        "colab": {
          "base_uri": "https://localhost:8080/",
          "height": 70
        },
        "id": "o_wycdKMyM-q",
        "outputId": "98eeaab5-380f-48cd-fe60-ba68cb25190b"
      },
      "execution_count": 14,
      "outputs": [
        {
          "output_type": "execute_result",
          "data": {
            "text/plain": [
              "'For another  many genes carried plasmids specifying resistance antibiotics kanamycin penicillin flanked special DNA enables jump plasmid chromosome back  one plasmid another  Again  jumping genes  transposons  cause chromosomal fluctuations  Moreover  chromosomes strains E coli contain enigmatic lengths DNA  insertion sequences  code known product move chromosome bacterial multiplication   activating  silencing genes  They present plasmids   Finally  chromosome even intrinsically stable mutates '"
            ],
            "application/vnd.google.colaboratory.intrinsic+json": {
              "type": "string"
            }
          },
          "metadata": {},
          "execution_count": 14
        }
      ]
    },
    {
      "cell_type": "code",
      "source": [
        "print(pos_list)"
      ],
      "metadata": {
        "colab": {
          "base_uri": "https://localhost:8080/"
        },
        "id": "SEZm7rJWDFSl",
        "outputId": "242e350b-bbd3-43a6-d27a-e552766691f3"
      },
      "execution_count": 15,
      "outputs": [
        {
          "output_type": "stream",
          "name": "stdout",
          "text": [
            "['v', 'v', 'v', 'v', 'v', 'v', 'v', 'v', 'v', 'v', 'v', 'v', 'v', 'v', 'v', 'v', 'v', 'v', 'v', 'v', 'v', 'v', 'v', 'v', 'v', 'v', 'v', 'v', 'v', 'v', 'v', 'v', 'v', 'v', 'v', 'v', 'v', 'v', 'v', 'v', 'v', 'v', 'v', 'v', 'v', 'v', 'v', 'v', 'v', 'v', 'v', 'v', 'v', 'v', 'v', 'v', 'v', 'v', 'v', 'v', 'v', 'v', 'v', 'v', 'v', 'v', 'v', 'v', 'v', 'v', 'v', 'v', 'v', 'v', 'v', 'v', 'v', 'v', 'v', 'v', 'v', 'v', 'v', 'v', 'v', 'v', 'v', 'v', 'v', 'v', 'v', 'v', 'v', 'v', 'v', 'v', 'v', 'v', 'v', 'v', 'v', 'v', 'v', 'v', 'v', 'v', 'v', 'v', 'v', 'v', 'v', 'v', 'v', 'v', 'v', 'v', 'v', 'v', 'v', 'v', 'v', 'v', 'v', 'v', 'v', 'v', 'v', 'v', 'v', 'v', 'v', 'v', 'v', 'v', 'v', 'v', 'v', 'v', 'v', 'v', 'v', 'v', 'v', 'v', 'v', 'v', 'v', 'v', 'v', 'v', 'v', 'v', 'v', 'v', 'v', 'v', 'v', 'v', 'v', 'v', 'v', 'v', 'v', 'v', 'v', 'v', 'v', 'v', 'v', 'v', 'v', 'v', 'v', 'v', 'v', 'v', 'v', 'v', 'v', 'v', 'v', 'v', 'v', 'v', 'v', 'v', 'v', 'v', 'v', 'v', 'v', 'v', 'v', 'v', 'v', 'v', 'v', 'v', 'v', 'v', 'v', 'v', 'v', 'v', 'v', 'v', 'v', 'v', 'v', 'v', 'v', 'v', 'v', 'v', 'v', 'v', 'v', 'v', 'v', 'v', 'v', 'v', 'v', 'v', 'v', 'v', 'v', 'v', 'v', 'v', 'v', 'v', 'v', 'v', 'v', 'v', 'v', 'v', 'v', 'v', 'v', 'v', 'v', 'v', 'v', 'v', 'v', 'v', 'v', 'v', 'v', 'v', 'v', 'v', 'v', 'v', 'v', 'v', 'v', 'v', 'v', 'v', 'v', 'v', 'v', 'v', 'v', 'v', 'v', 'v', 'v', 'v', 'v', 'v', 'v', 'v', 'v', 'v', 'v', 'v', 'v', 'v', 'v', 'v', 'v', 'v', 'v', 'v', 'v', 'v', 'v', 'v', 'v', 'v', 'v', 'v', 'v', 'v', 'v', 'v', 'v', 'v', 'v', 'v', 'v', 'v', 'v', 'v', 'v', 'v', 'v', 'v', 'v', 'v', 'v', 'v', 'v', 'v', 'v', 'v', 'v', 'v', 'v', 'v', 'v', 'v', 'v', 'v', 'v', 'v', 'v', 'v', 'v', 'v', 'v', 'v', 'v', 'v', 'v', 'v', 'v', 'v', 'v', 'v', 'v', 'v', 'v', 'v', 'v', 'v', 'v', 'v', 'v', 'v', 'v', 'v', 'v', 'v', 'v', 'v', 'v', 'v', 'v', 'v', 'v', 'v', 'v', 'v', 'v', 'v', 'v', 'v', 'v', 'v', 'v', 'v', 'v', 'v', 'v', 'v', 'v', 'v', 'v', 'v', 'v', 'v', 'v', 'v', 'v', 'v', 'v', 'v', 'v', 'v', 'v', 'v', 'v', 'v', 'v', 'v', 'v', 'v', 'v', 'v', 'v', 'v', 'v', 'v', 'v', 'v', 'v', 'v', 'v', 'v', 'v', 'v', 'v', 'v', 'v', 'v', 'v', 'v', 'v', 'v', 'v', 'v', 'v', 'v', 'v', 'v', 'v', 'v', 'v', 'v', 'v', 'v', 'v', 'v', 'v', 'v', 'v', 'v', 'v', 'v', 'v', 'v', 'v', 'v', 'v', 'v', 'v', 'v', 'v', 'v', 'v', 'v', 'v', 'v', 'v', 'v', 'v', 'v', 'v', 'v', 'v', 'v', 'v', 'v', 'v', 'v', 'v', 'v', 'v', 'v', 'v', 'v', 'v', 'v', 'v', 'v', 'v', 'v', 'v', 'v', 'v', 'v', 'v', 'v', 'v', 'v', 'v', 'v', 'v', 'v', 'v', 'v', 'v', 'v', 'v', 'v', 'v', 'v', 'v', 'v', 'v', 'v', 'v', 'v', 'v', 'v', 'v', 'v', 'v', 'v', 'v', 'v', 'v', 'v', 'v', 'v', 'v', 'v', 'v', 'v', 'v', 'v', 'v', 'v', 'v', 'v', 'v', 'v', 'v', 'v', 'v', 'v', 'v', 'v', 'v', 'v', 'v', 'v', 'v', 'v', 'v', 'v', 'v', 'v', 'v', 'v', 'v', 'v', 'v', 'v', 'v', 'v', 'v', 'v', 'v', 'n', 'n', 'n', 'n', 'n', 'n', 'n', 'n', 'n', 'n', 'n', 'n', 'n', 'n', 'n', 'n', 'n', 'n', 'n', 'n', 'n', 'n', 'n', 'n', 'n', 'n', 'n', 'n', 'n', 'n', 'n', 'n', 'n', 'n', 'n', 'n', 'n', 'n', 'n', 'n', 'n', 'n', 'n', 'n', 'n', 'n', 'n', 'n', 'n', 'n', 'n', 'n', 'n', 'n', 'n', 'n', 'n', 'n', 'n', 'n', 'n', 'n', 'n', 'n', 'n', 'n', 'n', 'n', 'n', 'n', 'n', 'n', 'n', 'n', 'n', 'n', 'n', 'n', 'n', 'n', 'n', 'n', 'n', 'n', 'n', 'n', 'n', 'n', 'n', 'n', 'n', 'n', 'n', 'n', 'n', 'n', 'n', 'n', 'n', 'n', 'n', 'n', 'n', 'n', 'n', 'n', 'n', 'n', 'n', 'n', 'n', 'n', 'n', 'n', 'n', 'n', 'n', 'n', 'n', 'n', 'n', 'n', 'n', 'n', 'n', 'n', 'n', 'n', 'n', 'n', 'n', 'n', 'n', 'n', 'n', 'n', 'n', 'n', 'n', 'n', 'n', 'n', 'n', 'n', 'n', 'n', 'n', 'n', 'n', 'n', 'n', 'n', 'n', 'n', 'n', 'n', 'n', 'n', 'n', 'n', 'n', 'n', 'n', 'n', 'n', 'n', 'n', 'n', 'n', 'n', 'n', 'n', 'n', 'n', 'n', 'n', 'n', 'n', 'n', 'n', 'n', 'n', 'n', 'n', 'n', 'n', 'n', 'n', 'n', 'n', 'n', 'n', 'n', 'n', 'n', 'n', 'n', 'n', 'n', 'n', 'n', 'n', 'n', 'n', 'n', 'n', 'n', 'n', 'n', 'n', 'n', 'n', 'n', 'n', 'n', 'n', 'n', 'n', 'n', 'n', 'n', 'n', 'n', 'n', 'n', 'n', 'n', 'n', 'n', 'n', 'n', 'n', 'n', 'n', 'n', 'n', 'n', 'n', 'n', 'n', 'n', 'n', 'n', 'n', 'n', 'n', 'n', 'n', 'n', 'n', 'n', 'n', 'n', 'n', 'n', 'n', 'n', 'n', 'n', 'n', 'n', 'n', 'n', 'n', 'n', 'n', 'n', 'n', 'n', 'n', 'n', 'n', 'n', 'n', 'n', 'n', 'n', 'n', 'n', 'n', 'n', 'n', 'n', 'n', 'n', 'n', 'n', 'n', 'n', 'n', 'n', 'n', 'n', 'n', 'n', 'n', 'n', 'n', 'n', 'n', 'n', 'n', 'n', 'n', 'n', 'n', 'n', 'n', 'n', 'n', 'n', 'n', 'n', 'n', 'n', 'n', 'n', 'n', 'n', 'n', 'n', 'n', 'n', 'n', 'n', 'n', 'n', 'n', 'n', 'n', 'n', 'n', 'n', 'n', 'n', 'n', 'n', 'n', 'n', 'n', 'n', 'n', 'n', 'n', 'n', 'n', 'n', 'n', 'n', 'n', 'n', 'n', 'n', 'n', 'n', 'n', 'n', 'n', 'n', 'n', 'n', 'v', 'v', 'v', 'v', 'v', 'v', 'v', 'v', 'v', 'v', 'v', 'v', 'v', 'v', 'v', 'v', 'v', 'v', 'v', 'v', 'v', 'v', 'v', 'v', 'v', 'v', 'v', 'v', 'v', 'v', 'v', 'v', 'v', 'v', 'v', 'v', 'v', 'v', 'v', 'v', 'v', 'v', 'v', 'v', 'v', 'v', 'v', 'v', 'v', 'v', 'v', 'v', 'v', 'v', 'v', 'v', 'v', 'v', 'v', 'v', 'v', 'v', 'v', 'v', 'v', 'v', 'v', 'v', 'v', 'v', 'v', 'v', 'v', 'v', 'v', 'v', 'v', 'v', 'v', 'v', 'v', 'v', 'v', 'v', 'v', 'v', 'v', 'v', 'v', 'v', 'v', 'v', 'v', 'v', 'v', 'v', 'v', 'v', 'v', 'v', 'v', 'v', 'v', 'v', 'v', 'v', 'v', 'v', 'v', 'v', 'v', 'v', 'v', 'v', 'v', 'v', 'v', 'v', 'v', 'v', 'v', 'v', 'v', 'v', 'v', 'v', 'v', 'v', 'v', 'v', 'v', 'v', 'v', 'v', 'v', 'v', 'v', 'v', 'v', 'v', 'v', 'v', 'v', 'v', 'v', 'v', 'v', 'v', 'v', 'v', 'v', 'n', 'n', 'n', 'n', 'n', 'n', 'n', 'n', 'n', 'n', 'n', 'n', 'n', 'n', 'n', 'n', 'n', 'n', 'n', 'n', 'n', 'n', 'n', 'n', 'n', 'n', 'n', 'n', 'n', 'n', 'n', 'n', 'n', 'n', 'n', 'n', 'n', 'n', 'n', 'n', 'n', 'n', 'n', 'n', 'n', 'n', 'n', 'n', 'n', 'n', 'n', 'n', 'n', 'n', 'n', 'n', 'n', 'n', 'n', 'n', 'n', 'n', 'n', 'n', 'n', 'n', 'n', 'n', 'n', 'n', 'n', 'n', 'n', 'n', 'n', 'n', 'n', 'n', 'n', 'n', 'n', 'n', 'n', 'n', 'n', 'n', 'n', 'n', 'n', 'n', 'n', 'n', 'n', 'n', 'n', 'n', 'n', 'n', 'n', 'n', 'n', 'n', 'n', 'n', 'n', 'n', 'n', 'n', 'n', 'n', 'n', 'n', 'n', 'n', 'n', 'n', 'n', 'n', 'n', 'n', 'n', 'n', 'n', 'n', 'n', 'n', 'n', 'n', 'n', 'n', 'n', 'n', 'n', 'n', 'n', 'n', 'n', 'n', 'n', 'n', 'n', 'n', 'n', 'n', 'n', 'n', 'n', 'n', 'n', 'n', 'n', 'n', 'n', 'n', 'n', 'n', 'n', 'n', 'n', 'n', 'n', 'n', 'n', 'n', 'n', 'n', 'n', 'n', 'n', 'n', 'n', 'n', 'n', 'n', 'n', 'n', 'n', 'n', 'n', 'n', 'n', 'n', 'n', 'n', 'n', 'n', 'n', 'n', 'n', 'n', 'n', 'n', 'n', 'n', 'n', 'n', 'n', 'n', 'n', 'n', 'n', 'n', 'n', 'n', 'n', 'n', 'n', 'n', 'n', 'n', 'n', 'n', 'n', 'n', 'n', 'n', 'n', 'n', 'n', 'n', 'n', 'n', 'n', 'n', 'n', 'n', 'n', 'n', 'n', 'n', 'n', 'n', 'n', 'n', 'n', 'n', 'n', 'n', 'n', 'n', 'n', 'n', 'n', 'n', 'n', 'n', 'n', 'n', 'n', 'n', 'n', 'n', 'n', 'n', 'n', 'n', 'n', 'n', 'n', 'n', 'n', 'n', 'n', 'n', 'n', 'n', 'n', 'n', 'n', 'n', 'n', 'n', 'n', 'n', 'n', 'n', 'n', 'n', 'n', 'n', 'n', 'n', 'n', 'n', 'n', 'n', 'n', 'n', 'n', 'n', 'n', 'n', 'n', 'n', 'n', 'n', 'n', 'n', 'n', 'n', 'n', 'n', 'n', 'n', 'n', 'n', 'n', 'n', 'n', 'n', 'n', 'n', 'n', 'n', 'n', 'n', 'n', 'n', 'n', 'n', 'n', 'n', 'n', 'n', 'n', 'n', 'n', 'n', 'n', 'n', 'n', 'n', 'n', 'n', 'n', 'n', 'n', 'n', 'n', 'n', 'n', 'n', 'n', 'n', 'n', 'n', 'n', 'n', 'n', 'n', 'n', 'n', 'n', 'n', 'n', 'n', 'n', 'n', 'n', 'n', 'n', 'n', 'n', 'n', 'n', 'n', 'n', 'n', 'n', 'n', 'n', 'n', 'n', 'n', 'n', 'n', 'n', 'n', 'n', 'n', 'n', 'n', 'n', 'n', 'n', 'n', 'n', 'n', 'n', 'n', 'n', 'n', 'n', 'n', 'n', 'n', 'n', 'n', 'n', 'n', 'n', 'n', 'n', 'n', 'n', 'n', 'n', 'n', 'n', 'n', 'n', 'n', 'n', 'n', 'n', 'n', 'n', 'n', 'n', 'n', 'n', 'n', 'n', 'n', 'n', 'n', 'n', 'n', 'n', 'n', 'n', 'n', 'n', 'n', 'n', 'n', 'n', 'n', 'n', 'n', 'n', 'n', 'n', 'n', 'n', 'n', 'n', 'n', 'n', 'n', 'n', 'n', 'v', 'v', 'v', 'v', 'v', 'v', 'v', 'v', 'v', 'v', 'v', 'v', 'v', 'v', 'v', 'v', 'v', 'v', 'v', 'v', 'v', 'v', 'v', 'v', 'v', 'v', 'v', 'v', 'v', 'v', 'v', 'v', 'v', 'v', 'v', 'v', 'v', 'v', 'v', 'v', 'v', 'v', 'v', 'v', 'v', 'v', 'v', 'v', 'v', 'v', 'v', 'v', 'v', 'v', 'v', 'v', 'v', 'v', 'v', 'v', 'v', 'v', 'v', 'v', 'v', 'v', 'v', 'v', 'v', 'v', 'v', 'v', 'v', 'v', 'v', 'v', 'v', 'v', 'v', 'v', 'v', 'v', 'v', 'v', 'v', 'v', 'v', 'v', 'v', 'v', 'v', 'v', 'v', 'v', 'v', 'v', 'v', 'v', 'v', 'v', 'v', 'v', 'v', 'v', 'v', 'v', 'v', 'v', 'v', 'v', 'v', 'v', 'v', 'v', 'v', 'v', 'v', 'v', 'v', 'v', 'v', 'v', 'v', 'v', 'v', 'v', 'v', 'v', 'v', 'v', 'v', 'v', 'v', 'v', 'v', 'v', 'v', 'v', 'v', 'v', 'v', 'v', 'v', 'v', 'v', 'v', 'v', 'v', 'v', 'v', 'v', 'v', 'v', 'v', 'v', 'v', 'v', 'v', 'v', 'v', 'v', 'v', 'v', 'v', 'v', 'v', 'v', 'v', 'v', 'v', 'v', 'v', 'v', 'v', 'v', 'v', 'v', 'v', 'v', 'v', 'v', 'v', 'v', 'v', 'v', 'v', 'v', 'v', 'v', 'v', 'v', 'v', 'v', 'v', 'v', 'v', 'v', 'v', 'v', 'v', 'v', 'v', 'v', 'v', 'v', 'v', 'v', 'v', 'v', 'v', 'v', 'v', 'v', 'v', 'v', 'v', 'v', 'v', 'v', 'v', 'v', 'v', 'v', 'v', 'v', 'v', 'v', 'v', 'v', 'v', 'v', 'v', 'v', 'v', 'v', 'v', 'v', 'v', 'v', 'v', 'v', 'v', 'v', 'v', 'v', 'v', 'v', 'v', 'v', 'v', 'v', 'v', 'v', 'v', 'v', 'v', 'v', 'v', 'v', 'v', 'v', 'v', 'v', 'v', 'v', 'v', 'v', 'v', 'v', 'v', 'v', 'v', 'v', 'v', 'v', 'v', 'v', 'v', 'v', 'v', 'v', 'v', 'v', 'v', 'v', 'v', 'v', 'v', 'v', 'v', 'v', 'v', 'v', 'v', 'v', 'v', 'v', 'v', 'v', 'v', 'v', 'v', 'v', 'v', 'v', 'v', 'v', 'v', 'v', 'v', 'v', 'v', 'v', 'v', 'v', 'v', 'v', 'v', 'v', 'v', 'v', 'v', 'v', 'v', 'n', 'n', 'n', 'n', 'n', 'n', 'n', 'n', 'n', 'n', 'n', 'n', 'n', 'n', 'n', 'n', 'n', 'n', 'n', 'n', 'n', 'n', 'n', 'n', 'n', 'n', 'n', 'n', 'n', 'n', 'n', 'n', 'n', 'n', 'n', 'n', 'n', 'n', 'n', 'n', 'n', 'n', 'n', 'n', 'n', 'n', 'n', 'n', 'n', 'n', 'n', 'n', 'n', 'n', 'n', 'n', 'n', 'n', 'n', 'n', 'n', 'n', 'n', 'n', 'n', 'n', 'n', 'n', 'n', 'n', 'n', 'n', 'n', 'n', 'n', 'n', 'n', 'n', 'n', 'n', 'n', 'n', 'n', 'n', 'n', 'n', 'n', 'n', 'n', 'n', 'n', 'n', 'n', 'n', 'n', 'n', 'n', 'n', 'n', 'n', 'n', 'n', 'n', 'n', 'n', 'n', 'n', 'n', 'n', 'n', 'n', 'n', 'n', 'n', 'n', 'n', 'n', 'n', 'n', 'n', 'n', 'n', 'n', 'n', 'n', 'n', 'n', 'n', 'n', 'n', 'n', 'n', 'n', 'n', 'n', 'n', 'n', 'n', 'n', 'n', 'n', 'n', 'n', 'n', 'n', 'n', 'n', 'n', 'n', 'n', 'n', 'n', 'n', 'n', 'n', 'n', 'n', 'n', 'n', 'n', 'n', 'n', 'n', 'n', 'n', 'n', 'n', 'n', 'n', 'n', 'n', 'n', 'n', 'n', 'n', 'n', 'n', 'n', 'n', 'n', 'n', 'n', 'n', 'n', 'n', 'n', 'n', 'n', 'n', 'n', 'n', 'n', 'n', 'n', 'n', 'n', 'n', 'n', 'n', 'n', 'n', 'n', 'n', 'n', 'n', 'n', 'n', 'n', 'n', 'n', 'n', 'n', 'n', 'n', 'n', 'n', 'n', 'n', 'n', 'n', 'n', 'n', 'n', 'n', 'n', 'n', 'n', 'n', 'n', 'n', 'n', 'n', 'n', 'n', 'n', 'n', 'n', 'n', 'n', 'n', 'n', 'n', 'n', 'n', 'n', 'n', 'n', 'n', 'n', 'n', 'n', 'n', 'n', 'n', 'n', 'n', 'n', 'n', 'n', 'n', 'n', 'n', 'n', 'n', 'n', 'n', 'n', 'n', 'n', 'n', 'n', 'n', 'n', 'n', 'n', 'n', 'n', 'n', 'n', 'n', 'n', 'n', 'n', 'n', 'n', 'n', 'n', 'n', 'n', 'n', 'n', 'n', 'n', 'n', 'n', 'n', 'n', 'n', 'n', 'n', 'n', 'n', 'n', 'n', 'n', 'n', 'n', 'n', 'n', 'n', 'n', 'n', 'n', 'n', 'n', 'n', 'n', 'n', 'n', 'n', 'n', 'n', 'n', 'n', 'n', 'n', 'n', 'n', 'n', 'n', 'n', 'n', 'n', 'n', 'n', 'n', 'n', 'n', 'n', 'n', 'n', 'n', 'n', 'n', 'n', 'n', 'n', 'n', 'n', 'n', 'n', 'n', 'n', 'n', 'n', 'n', 'n', 'n', 'n', 'n', 'a', 'a', 'a', 'a', 'a', 'a', 'a', 'a', 'a', 'a', 'a', 'a', 'a', 'a', 'a', 'a', 'a', 'a', 'a', 'a', 'a', 'a', 'a', 'a', 'a', 'a', 'a', 'a', 'a', 'a', 'a', 'a', 'a', 'a', 'a', 'a', 'a', 'a', 'a', 'a', 'a', 'a', 'a', 'a', 'a', 'a', 'a', 'a', 'a', 'a', 'a', 'a', 'a', 'a', 'a', 'a', 'a', 'a', 'a', 'a', 'a', 'a', 'a', 'a', 'a', 'a', 'a', 'a', 'a', 'a', 'a', 'a', 'a', 'a', 'a', 'a', 'a', 'n', 'n', 'n', 'n', 'n', 'n', 'n', 'n', 'n', 'n', 'n', 'n', 'n', 'n', 'n', 'n', 'n', 'n', 'n', 'n', 'n', 'n', 'n', 'n', 'n', 'n', 'n', 'n', 'n', 'n', 'n', 'n', 'n', 'n', 'n', 'n', 'n', 'n', 'n', 'n', 'n', 'n', 'n', 'n', 'n', 'n', 'n', 'n', 'n', 'n', 'n', 'n', 'n', 'n', 'n', 'n', 'n', 'n', 'n', 'n', 'n', 'n', 'n', 'n', 'n', 'n', 'n', 'n', 'n', 'n', 'n', 'n', 'n', 'n', 'n', 'n', 'n', 'n', 'n', 'n', 'n', 'n', 'n', 'n', 'n', 'n', 'n', 'n', 'n', 'n', 'n', 'n', 'n', 'n', 'n', 'n', 'n', 'n', 'n', 'n', 'n', 'n', 'n', 'n', 'n', 'n', 'n', 'n', 'n', 'n', 'n', 'n', 'n', 'n', 'n', 'n', 'n', 'n', 'n', 'n', 'n', 'n', 'n', 'n', 'n', 'n', 'n', 'n', 'n', 'n', 'n', 'n', 'n', 'n', 'n', 'n', 'n', 'n', 'n', 'n', 'n', 'n', 'n', 'n', 'n', 'n', 'n', 'n', 'n', 'n', 'n', 'n', 'n', 'n', 'n', 'n', 'n', 'n', 'n', 'n', 'n', 'n', 'n', 'n', 'n', 'n', 'n', 'n', 'n', 'n', 'n', 'n', 'n', 'n', 'n', 'n', 'n', 'n', 'n', 'n', 'n', 'v', 'v', 'v', 'v', 'v', 'v', 'v', 'v', 'v', 'v', 'v', 'v', 'v', 'v', 'v', 'v', 'v', 'v', 'v', 'v', 'v', 'v', 'v', 'v', 'v', 'v', 'v', 'v', 'v', 'v', 'v', 'v', 'v', 'v', 'v', 'v', 'v', 'v', 'v', 'v', 'v', 'v', 'v', 'v', 'v', 'v', 'v', 'v', 'v', 'v', 'v', 'v', 'v', 'v', 'v', 'v', 'v', 'v', 'v', 'v', 'v', 'v', 'v', 'v', 'v', 'v', 'v', 'v', 'v', 'v', 'v', 'v', 'v', 'v', 'v', 'v', 'v', 'v', 'v', 'v', 'v', 'v', 'v', 'v', 'v', 'v', 'v', 'v', 'v', 'v', 'v', 'v', 'v', 'v', 'v', 'v', 'v', 'v', 'v', 'v', 'v', 'v', 'v', 'v', 'v', 'v', 'v', 'v', 'v', 'v', 'v', 'v', 'v', 'v', 'v', 'v', 'v', 'v', 'v', 'v', 'v', 'v', 'v', 'v', 'v', 'v', 'v', 'v', 'v', 'v', 'v', 'v', 'v', 'v', 'v', 'v', 'v', 'v', 'v', 'v', 'v', 'v', 'v', 'v', 'v', 'v', 'v', 'v', 'v', 'v', 'v', 'v', 'v', 'v', 'v', 'v', 'v', 'v', 'v', 'v', 'v', 'v', 'v', 'v', 'v', 'v', 'v', 'v', 'v', 'v', 'v', 'v', 'v', 'v', 'v', 'v', 'v', 'v', 'v', 'v', 'v', 'v', 'v', 'v', 'v', 'v', 'v', 'v', 'v', 'v', 'v', 'v', 'v', 'v', 'v', 'v', 'v', 'v', 'v', 'v', 'v', 'v', 'v', 'v', 'v', 'v', 'v', 'v', 'v', 'v', 'v', 'v', 'v', 'v', 'v', 'v', 'v', 'v', 'v', 'v', 'v', 'v', 'v', 'v', 'v', 'v', 'v', 'v', 'v', 'v', 'v', 'v', 'v', 'v', 'v', 'v', 'v', 'v', 'v', 'v', 'v', 'v', 'v', 'v', 'v', 'v', 'v', 'v', 'v', 'v', 'v', 'v', 'v', 'v', 'v', 'v', 'v', 'v', 'v', 'v', 'v', 'v', 'v', 'v', 'v', 'v', 'v', 'v', 'v', 'v', 'v', 'v', 'v', 'v', 'v', 'v', 'v', 'v', 'v', 'v', 'v', 'v', 'v', 'v', 'v', 'v', 'v', 'v', 'v', 'v', 'v', 'v', 'v', 'v', 'v', 'v', 'v', 'v', 'v', 'v', 'v', 'v', 'v', 'v', 'v', 'v', 'v', 'v', 'v', 'v', 'v', 'v', 'v', 'v', 'v', 'v', 'v', 'v', 'v', 'v', 'v', 'v', 'v', 'v', 'v', 'v', 'v', 'v', 'v', 'v', 'v', 'v', 'v', 'v', 'v', 'v', 'v', 'v', 'v', 'v', 'v', 'v', 'v', 'v', 'v', 'v', 'v', 'v', 'v', 'v', 'v', 'v', 'v', 'v', 'v', 'v', 'v', 'v', 'v', 'v', 'v', 'v', 'v', 'v', 'v', 'v', 'v', 'v', 'v', 'v', 'v', 'v', 'v', 'v', 'v', 'v', 'v', 'v', 'v', 'v', 'v', 'v', 'v', 'v', 'v', 'v', 'v', 'v', 'v', 'v', 'v', 'v', 'v', 'v', 'v', 'v', 'v', 'v', 'v', 'v', 'v', 'v', 'v', 'v', 'v', 'v', 'v', 'v', 'v', 'v', 'v', 'v', 'v', 'v', 'v', 'v', 'v', 'v', 'v', 'v', 'v', 'v', 'v', 'v', 'v', 'v', 'v', 'v', 'v', 'v', 'v', 'v', 'v', 'v', 'v', 'v', 'v', 'v', 'v', 'v', 'v', 'v', 'v', 'v', 'v', 'v', 'v', 'v', 'v', 'v', 'v', 'v', 'v', 'v', 'v', 'v', 'v', 'v', 'v', 'v', 'v', 'v', 'v', 'v', 'v', 'v', 'v', 'v', 'v', 'v', 'v', 'v', 'v', 'v', 'v', 'v', 'v', 'v', 'v', 'v', 'v', 'v', 'v', 'v', 'v', 'v', 'v', 'v', 'v', 'v', 'v', 'v', 'v', 'v', 'v', 'v', 'v', 'v', 'v', 'v', 'v', 'v', 'v', 'v', 'v', 'v', 'v', 'v', 'v', 'v', 'a', 'a', 'a', 'a', 'a', 'a', 'a', 'a', 'a', 'a', 'a', 'a', 'a', 'a', 'a', 'a', 'a', 'a', 'a', 'a', 'a', 'a', 'a', 'a', 'a', 'a', 'a', 'a', 'a', 'a', 'a', 'a', 'a', 'a', 'a', 'a', 'a', 'a', 'a', 'a', 'a', 'a', 'a', 'a', 'a', 'a', 'a', 'a', 'a', 'a', 'a', 'a', 'a', 'a', 'a', 'a', 'a', 'a', 'a', 'a', 'a', 'a', 'a', 'a', 'a', 'a', 'a', 'a', 'a', 'n', 'n', 'n', 'n', 'n', 'n', 'n', 'n', 'n', 'n', 'n', 'n', 'n', 'n', 'n', 'n', 'n', 'n', 'n', 'n', 'n', 'n', 'n', 'n', 'n', 'n', 'n', 'n', 'n', 'n', 'n', 'n', 'n', 'n', 'n', 'n', 'n', 'n', 'n', 'n', 'n', 'n', 'n', 'n', 'n', 'n', 'n', 'n', 'n', 'n', 'n', 'n', 'n', 'n', 'n', 'n', 'n', 'n', 'n', 'n', 'n', 'n', 'n', 'n', 'n', 'n', 'n', 'n', 'n', 'n', 'n', 'n', 'n', 'n', 'n', 'n', 'n', 'n', 'n', 'n', 'n', 'n', 'n', 'n', 'n', 'n', 'n', 'n', 'n', 'n', 'n', 'n', 'n', 'n', 'n', 'n', 'n', 'n', 'n', 'n', 'n', 'n', 'n', 'n', 'n', 'n', 'n', 'n', 'n', 'n', 'n', 'n', 'n', 'n', 'n', 'n', 'n', 'n', 'n', 'n', 'n', 'a', 'a', 'a', 'a', 'a', 'a', 'a', 'a', 'a', 'a', 'a', 'a', 'a', 'a', 'a', 'a', 'a', 'a', 'a', 'a', 'a', 'a', 'n', 'n', 'n', 'n', 'n', 'n', 'n', 'n', 'n', 'n', 'n', 'n', 'n', 'n', 'n', 'n', 'n', 'n', 'n', 'n', 'n', 'n', 'n', 'n', 'n', 'n', 'n', 'n', 'n', 'n', 'n', 'n', 'n', 'n', 'n', 'n', 'n', 'n', 'n', 'n', 'n', 'n', 'n', 'n', 'n', 'n', 'n', 'n', 'n', 'n', 'n', 'n', 'n', 'n', 'n', 'n', 'n', 'n', 'n', 'n', 'n', 'n', 'n', 'n', 'n', 'n', 'n', 'n', 'n', 'n', 'n', 'n', 'n', 'n', 'n', 'n', 'n', 'n', 'n', 'n', 'n', 'n', 'n', 'n', 'n', 'n', 'n', 'n', 'n', 'n', 'n', 'n', 'n', 'n', 'n', 'n', 'n', 'n', 'n', 'n', 'n', 'n', 'n', 'n', 'n', 'n', 'n', 'n', 'n', 'n', 'n', 'n', 'n', 'n', 'n', 'n', 'n', 'n', 'n', 'n', 'n', 'n', 'n', 'n', 'n', 'n', 'n', 'n', 'n', 'n', 'n', 'n', 'n', 'n', 'n', 'n', 'n', 'n', 'n', 'n', 'n', 'n', 'n', 'n', 'n', 'n', 'n', 'n', 'n', 'n', 'n', 'n', 'n', 'n', 'n', 'n', 'n', 'n', 'n', 'n', 'n', 'n', 'n', 'n', 'n', 'n', 'n', 'n', 'n', 'n', 'n', 'n', 'n', 'n', 'n', 'n', 'n', 'n', 'n', 'n', 'n', 'n', 'n', 'n', 'n', 'n', 'n', 'n', 'n', 'n', 'n', 'n', 'n', 'n', 'n', 'n', 'n', 'n', 'n', 'n', 'n', 'n', 'n', 'n', 'n', 'v', 'v', 'v', 'v', 'v', 'v', 'v', 'v', 'v', 'v', 'v', 'v', 'v', 'v', 'v', 'v', 'v', 'v', 'v', 'v', 'v', 'v', 'v', 'v', 'v', 'v', 'v', 'v', 'v', 'v', 'v', 'v', 'v', 'v', 'v', 'v', 'v', 'v', 'v', 'v', 'v', 'v', 'v', 'v', 'v', 'v', 'v', 'v', 'v', 'v', 'v', 'v', 'v', 'v', 'v', 'v', 'v', 'v', 'v', 'v', 'v', 'v', 'v', 'v', 'v', 'v', 'v', 'v', 'v', 'v', 'v', 'v', 'v', 'v', 'v', 'v', 'v', 'v', 'v', 'v', 'v', 'v', 'v', 'v', 'v', 'v', 'v', 'v', 'v', 'v', 'v', 'v', 'v', 'v', 'v', 'v', 'v', 'v', 'v', 'v', 'v', 'v', 'v', 'v', 'v', 'v', 'v', 'v', 'v', 'v', 'v', 'v', 'v', 'v', 'v', 'v', 'v', 'v', 'v', 'v', 'v', 'v', 'v', 'v', 'v', 'v', 'v', 'v', 'v', 'v', 'v', 'v', 'v', 'v', 'v', 'v', 'v', 'v', 'v', 'v', 'v', 'v', 'v', 'v', 'v', 'v', 'v', 'v', 'v', 'v', 'v', 'v', 'v', 'v', 'v', 'v', 'v', 'v', 'v', 'v', 'v', 'v', 'v', 'v', 'v', 'v', 'v', 'v', 'v', 'v', 'v', 'v', 'v', 'v', 'v', 'v', 'v', 'v', 'v', 'v', 'v', 'v', 'v', 'v', 'v', 'v', 'v', 'v', 'v', 'v', 'v', 'v', 'v', 'v', 'v', 'v', 'v', 'v', 'v', 'v', 'v', 'v', 'v', 'v', 'v', 'v', 'v', 'v', 'v', 'v', 'v', 'v', 'v', 'v', 'v', 'v', 'v', 'v', 'v', 'v', 'v', 'v', 'v', 'v', 'v', 'v', 'v', 'v', 'v', 'v', 'v', 'v', 'v', 'v', 'v', 'v', 'v', 'v', 'v', 'v', 'v', 'v', 'v', 'v', 'v', 'v', 'v', 'v', 'v', 'v', 'v', 'v', 'v', 'v', 'v', 'v', 'v', 'v', 'v', 'v', 'v', 'v', 'v', 'v', 'v', 'v', 'v', 'v', 'v', 'v', 'v', 'v', 'v', 'v', 'v', 'v', 'v', 'v', 'v', 'v', 'v', 'v', 'v', 'v', 'v', 'v', 'v', 'v', 'v', 'v', 'v', 'v', 'v', 'v', 'v', 'v', 'v', 'v', 'v', 'v', 'v', 'v', 'v', 'v', 'v', 'v', 'v', 'v', 'v', 'v', 'v', 'v', 'v', 'v', 'n', 'n', 'n', 'n', 'n', 'n', 'n', 'n', 'n', 'n', 'n', 'n', 'n', 'n', 'n', 'n', 'n', 'n', 'n', 'n', 'n', 'n', 'n', 'n', 'n', 'n', 'n', 'n', 'n', 'n', 'n', 'n', 'n', 'n', 'n', 'n', 'n', 'n', 'n', 'n', 'n', 'n', 'n', 'n', 'n', 'n', 'n', 'n', 'n', 'n', 'n', 'n', 'n', 'n', 'n', 'n', 'n', 'n', 'n', 'n', 'n', 'n', 'n', 'n', 'n', 'n', 'n', 'n', 'n', 'n', 'n', 'n', 'n', 'n', 'n', 'n', 'n', 'n', 'n', 'n', 'n', 'n', 'n', 'n', 'n', 'n', 'n', 'n', 'n', 'n', 'n', 'n', 'n', 'n', 'n', 'n', 'n', 'n', 'n', 'n', 'n', 'n', 'n', 'n', 'n', 'n', 'n', 'n', 'n', 'n', 'n', 'n', 'n', 'n', 'n', 'n', 'n', 'n', 'n', 'n', 'n', 'n', 'n', 'n', 'n', 'n', 'n', 'n', 'n', 'n', 'n', 'n', 'n', 'n', 'n', 'n', 'n', 'n', 'n', 'n', 'n', 'n', 'n', 'n', 'n', 'n', 'n', 'n', 'n', 'n', 'n', 'n', 'n', 'n', 'n', 'n', 'n', 'n', 'n', 'n', 'n', 'n', 'n', 'n', 'n', 'n', 'n', 'n', 'n', 'n', 'n', 'n', 'n', 'n', 'n', 'n', 'n', 'n', 'n', 'n', 'n', 'n', 'n', 'n', 'n', 'n', 'n', 'n', 'n', 'n', 'n', 'n', 'n', 'n', 'n', 'n', 'n', 'n', 'n', 'n', 'n', 'n', 'n', 'n', 'n', 'n', 'n', 'n', 'n', 'n', 'n', 'n', 'n', 'n', 'n', 'n', 'n', 'n', 'n', 'n', 'n', 'n', 'n', 'n', 'n', 'n', 'n', 'n', 'n', 'n', 'n', 'n', 'n', 'n', 'n', 'n', 'n', 'n', 'n', 'n', 'n', 'n', 'n', 'n', 'n', 'n', 'n', 'n', 'n', 'n', 'n', 'n', 'n', 'n', 'n', 'n', 'n', 'n', 'n', 'n', 'n', 'n', 'n', 'n', 'n', 'n', 'n', 'n', 'n', 'n', 'n', 'n', 'n', 'n', 'n', 'n', 'n', 'n', 'n', 'n', 'n', 'n', 'n', 'n', 'n', 'n', 'n', 'n', 'n', 'n', 'n', 'n', 'n', 'n', 'n', 'n', 'n', 'n', 'n', 'n', 'n', 'n', 'n', 'n', 'n', 'n', 'n', 'n', 'n', 'n', 'n', 'n', 'n', 'n', 'n', 'n', 'n', 'n', 'n', 'n', 'n', 'n', 'n', 'n', 'n', 'n', 'n', 'n', 'n', 'n', 'n', 'n', 'n', 'n', 'n', 'n', 'n', 'n', 'n', 'n', 'n', 'n', 'n', 'n', 'n', 'n', 'n', 'n', 'n', 'n', 'n', 'n', 'n', 'n', 'n', 'n', 'n', 'n', 'n', 'n', 'n', 'n', 'n', 'n', 'n', 'n', 'n', 'n', 'n', 'n', 'n', 'n', 'n', 'n', 'n', 'n', 'n', 'n', 'n', 'n', 'n', 'n', 'n', 'n', 'n', 'n', 'n', 'n', 'n', 'n', 'n', 'n', 'n', 'n', 'n', 'n', 'n', 'n', 'n', 'n', 'n', 'n', 'n', 'n', 'n', 'n', 'n', 'n', 'n', 'n', 'n', 'n', 'n', 'n', 'n', 'n', 'n', 'n', 'n', 'n', 'n', 'n', 'n', 'n', 'n', 'n', 'n', 'n', 'n', 'n', 'n', 'n', 'n', 'n', 'n', 'n', 'n', 'n', 'n', 'n', 'n', 'n', 'n', 'n', 'n', 'n', 'n', 'n', 'n', 'n', 'n', 'n', 'n', 'n', 'n', 'n', 'n', 'n', 'n', 'n', 'n', 'n', 'n', 'n', 'n', 'n', 'n', 'n', 'n', 'n', 'n', 'n', 'n', 'n', 'n', 'n', 'n', 'n', 'n', 'n', 'n', 'n', 'n', 'n', 'n', 'n', 'n', 'n', 'n', 'n', 'n', 'n', 'n', 'n', 'n', 'n', 'n', 'n', 'n', 'n', 'n', 'n', 'n', 'n', 'n', 'n', 'n', 'n', 'n', 'n', 'n', 'n', 'n', 'n', 'n', 'n', 'n', 'n', 'n', 'n', 'n', 'n', 'n', 'n', 'n', 'n', 'n', 'n', 'n', 'n', 'n', 'n', 'n', 'n', 'n', 'n', 'n', 'n', 'n', 'n', 'n', 'n', 'n', 'n', 'n', 'n', 'n', 'n', 'n', 'n', 'n', 'n', 'n', 'n', 'n', 'n', 'n', 'n', 'n', 'n', 'n', 'n', 'n', 'n', 'n', 'n', 'n', 'n', 'n', 'n', 'n', 'n', 'n', 'n', 'n', 'n', 'n', 'n', 'n', 'n', 'n', 'n', 'n', 'n', 'n', 'n', 'n', 'n', 'n', 'n', 'n', 'n', 'n', 'n', 'n', 'n', 'n', 'n', 'n', 'n', 'n', 'n', 'n', 'n', 'n', 'n', 'n', 'n', 'n', 'n', 'n', 'n', 'n', 'n', 'n', 'n', 'n', 'n', 'n', 'n', 'n', 'n', 'n', 'n', 'n', 'n', 'n', 'n', 'n', 'n', 'n', 'n', 'n', 'n', 'n', 'n', 'n', 'n', 'n', 'n', 'n', 'n', 'n', 'n', 'n', 'n', 'n', 'n', 'n', 'n', 'n', 'n', 'n', 'n', 'n', 'n', 'n', 'n', 'n', 'n', 'n', 'n', 'n', 'v', 'v', 'v', 'v', 'v', 'v', 'v', 'v', 'v', 'v', 'v', 'v', 'v', 'v', 'v', 'v', 'v', 'v', 'v', 'v', 'v', 'v', 'v', 'v', 'v', 'v', 'v', 'v', 'v', 'v', 'v', 'v', 'v', 'v', 'v', 'v', 'v', 'v', 'v', 'v', 'v', 'v', 'v', 'v', 'v', 'v', 'v', 'v', 'v', 'v', 'v', 'v', 'v', 'v', 'v', 'v', 'v', 'v', 'v', 'v', 'v', 'v', 'v', 'v', 'v', 'v', 'v', 'v', 'v', 'v', 'v', 'v', 'v', 'v', 'v', 'v', 'v', 'v', 'v', 'v', 'v', 'v', 'v', 'v', 'v', 'v', 'v', 'v', 'v', 'v', 'v', 'v', 'v', 'v', 'v', 'v', 'v', 'v', 'v', 'v', 'v', 'v', 'v', 'v', 'v', 'v', 'v', 'v', 'v', 'v', 'v', 'v', 'v', 'v', 'v', 'v', 'v', 'v', 'v', 'v', 'v', 'v', 'v', 'v', 'v', 'v', 'v', 'v', 'v', 'v', 'v', 'v', 'v', 'v', 'v', 'v', 'v', 'v', 'v', 'v', 'v', 'v', 'v', 'v', 'v', 'v', 'v', 'v', 'v', 'v', 'v', 'v', 'v', 'v', 'v', 'v', 'v', 'v', 'v', 'v', 'v', 'v', 'v', 'v', 'v', 'v', 'v', 'v', 'v', 'v', 'v', 'v', 'v', 'v', 'v', 'v', 'v', 'v', 'v', 'v', 'v', 'v', 'v', 'v', 'v', 'v', 'v', 'v', 'v', 'v', 'v', 'v', 'v', 'v', 'v', 'v', 'v', 'v', 'v', 'v', 'v', 'v', 'v', 'v', 'v', 'v', 'v', 'v', 'v', 'v', 'v', 'v', 'v', 'v', 'v', 'v', 'v', 'v', 'v', 'v', 'v', 'v', 'v', 'v', 'v', 'v', 'v', 'v', 'v', 'v', 'v', 'v', 'v', 'v', 'v', 'v', 'v', 'v', 'v', 'v', 'v', 'v', 'v', 'v', 'v', 'v', 'v', 'v', 'v', 'v', 'v', 'v', 'v', 'v', 'v', 'v', 'v', 'v', 'v', 'v', 'v', 'v', 'v', 'v', 'v', 'v', 'v', 'v', 'v', 'v', 'v', 'v', 'v', 'v', 'v', 'v', 'v', 'v', 'v', 'v', 'v', 'v', 'v', 'v', 'v', 'v', 'v', 'v', 'v', 'v', 'v', 'v', 'v', 'v', 'v', 'v', 'v', 'v', 'v', 'v', 'v', 'v', 'v', 'v', 'v', 'v', 'v', 'v', 'v', 'v', 'v', 'v', 'v', 'v', 'v', 'v', 'v', 'v', 'v', 'v', 'v', 'v', 'v', 'v', 'v', 'v', 'v', 'v', 'v', 'v', 'v', 'v', 'v', 'v', 'v', 'v', 'v', 'v', 'v', 'v', 'v', 'v', 'v', 'v', 'v', 'v', 'v', 'v', 'v', 'v', 'v', 'v', 'v', 'v', 'v', 'v', 'v', 'v', 'v', 'v', 'v', 'v', 'v', 'v', 'v', 'v', 'v', 'v', 'v', 'v', 'v', 'v', 'v', 'v', 'v', 'v', 'v', 'v', 'v', 'v', 'v', 'v', 'v', 'v', 'v', 'v', 'v', 'v', 'v', 'v', 'v', 'v', 'v', 'v', 'v', 'v', 'v', 'v', 'v', 'v', 'v', 'v', 'v', 'v', 'v', 'v', 'v', 'v', 'v', 'v', 'v', 'v', 'v', 'v', 'v', 'v', 'v', 'v', 'v', 'v', 'v', 'v', 'v', 'v', 'v', 'v', 'v', 'v', 'v', 'v', 'v', 'v', 'v', 'v', 'v', 'v', 'v', 'v', 'v', 'v', 'v', 'v', 'v', 'v', 'v', 'v', 'v', 'v', 'v', 'v', 'v', 'v', 'v', 'v', 'v', 'v', 'v', 'v', 'v', 'v', 'v', 'v', 'v', 'v', 'v', 'v', 'v', 'v', 'v', 'v', 'v', 'v', 'v', 'v', 'v', 'v', 'v', 'v', 'v', 'v', 'v', 'v', 'v', 'v', 'v', 'v', 'v', 'v', 'v', 'v', 'v', 'v', 'v', 'v', 'v', 'v', 'v', 'v', 'v', 'v', 'v', 'v', 'v', 'v', 'v', 'v', 'v', 'v', 'v', 'v', 'v', 'v', 'v', 'v', 'v', 'v', 'v', 'v', 'v', 'v', 'v', 'v', 'v', 'v', 'v', 'v', 'v', 'v', 'v', 'v', 'v', 'v', 'v', 'v', 'v', 'v', 'v', 'v', 'v', 'v', 'v', 'v', 'v', 'v', 'v', 'v', 'v', 'v', 'v', 'v', 'v', 'v', 'v', 'v', 'v', 'v', 'v', 'v', 'v', 'v', 'v', 'v', 'v', 'v', 'v', 'v', 'v', 'v', 'n', 'n', 'n', 'n', 'n', 'n', 'n', 'n', 'n', 'n', 'n', 'n', 'n', 'n', 'n', 'n', 'n', 'n', 'n', 'n', 'n', 'n', 'n', 'n', 'n', 'n', 'n', 'n', 'n', 'n', 'n', 'n', 'n', 'n', 'n', 'n', 'n', 'n', 'n', 'n', 'n', 'n', 'n', 'n', 'n', 'n', 'n', 'n', 'n', 'n', 'n', 'n', 'n', 'n', 'n', 'n', 'n', 'n', 'n', 'n', 'n', 'n', 'n', 'n', 'n', 'n', 'n', 'n', 'n', 'n', 'n', 'n', 'n', 'n', 'n', 'n', 'n', 'n', 'n', 'n', 'n', 'n', 'n', 'n', 'n', 'n', 'n', 'n', 'n', 'n', 'n', 'n', 'n', 'n', 'n', 'n', 'n', 'n', 'n', 'n', 'n', 'n', 'n', 'n', 'n', 'n', 'n', 'n', 'n', 'n', 'n', 'n', 'n', 'n', 'n', 'n', 'n', 'n', 'n', 'n', 'n', 'n', 'n', 'n', 'n', 'n', 'n', 'n', 'n', 'n', 'n', 'n', 'n', 'n', 'n', 'n', 'n', 'n', 'n', 'n', 'n', 'a', 'a', 'a', 'a', 'a', 'a', 'a', 'a', 'a', 'a', 'a', 'a', 'a', 'a', 'a', 'a', 'a', 'a', 'a', 'a', 'a', 'a', 'a', 'a', 'a', 'a', 'a', 'v', 'v', 'v', 'v', 'v', 'v', 'v', 'v', 'v', 'v', 'v', 'v', 'v', 'v', 'v', 'v', 'v', 'v', 'v', 'v', 'v', 'v', 'v', 'v', 'v', 'v', 'v', 'v', 'v', 'v', 'v', 'v', 'v', 'v', 'v', 'v', 'v', 'v', 'v', 'v', 'v', 'v', 'v', 'v', 'v', 'v', 'v', 'v', 'v', 'v', 'v', 'v', 'v', 'v', 'v', 'v', 'v', 'v', 'v', 'v', 'v', 'v', 'v', 'v', 'v', 'v', 'v', 'v', 'v', 'v', 'v', 'v', 'v', 'v', 'v', 'v', 'v', 'v', 'v', 'v', 'v', 'v', 'v', 'v', 'v', 'v', 'v', 'a', 'a', 'a', 'a', 'a', 'a', 'a', 'a', 'a', 'a', 'a', 'a', 'a', 'a', 'a', 'a', 'a', 'a', 'a', 'a', 'a', 'a', 'a', 'a', 'a', 'a', 'a', 'a', 'a', 'a', 'a', 'a', 'a', 'a', 'a', 'a', 'a', 'a', 'a', 'a', 'a', 'a', 'n', 'n', 'n', 'n', 'n', 'n', 'n', 'n', 'n', 'n', 'n', 'n', 'n', 'n', 'n', 'n', 'n', 'n', 'n', 'n', 'n', 'n', 'n', 'n', 'n', 'n', 'n', 'n', 'n', 'n', 'n', 'n', 'n', 'n', 'n', 'n', 'n', 'n', 'n', 'n', 'n', 'n', 'n', 'n', 'n', 'n', 'n', 'n', 'n', 'n', 'n', 'n', 'n', 'n', 'n', 'n', 'n', 'n', 'n', 'n', 'n', 'n', 'n', 'n', 'n', 'n', 'n', 'n', 'n', 'n', 'n', 'n', 'n', 'n', 'n', 'n', 'n', 'n', 'n', 'n', 'n', 'n', 'n', 'n', 'n', 'n', 'n', 'n', 'n', 'n', 'n', 'n', 'n', 'n', 'n', 'n', 'n', 'n', 'n', 'n', 'n', 'n', 'n', 'n', 'n', 'n', 'n', 'n', 'n', 'n', 'n', 'n', 'n', 'n', 'n', 'n', 'n', 'n', 'n', 'n', 'n', 'n', 'n', 'n', 'n', 'n', 'n', 'n', 'n', 'n', 'n', 'n', 'n', 'n', 'n', 'n', 'n', 'n', 'n', 'n', 'n', 'n', 'n', 'n', 'n', 'n', 'n', 'n', 'n', 'n', 'n', 'n', 'n', 'n', 'n', 'n', 'n', 'n', 'n', 'n', 'n', 'n', 'n', 'n', 'n', 'n', 'n', 'n', 'n', 'n', 'v', 'v', 'v', 'v', 'v', 'v', 'v', 'v', 'v', 'v', 'v', 'v', 'v', 'v', 'v', 'v', 'v', 'v', 'v', 'v', 'v', 'v', 'v', 'v', 'v', 'v', 'v', 'v', 'v', 'v', 'v', 'v', 'v', 'v', 'v', 'v', 'v', 'v', 'v', 'v', 'v', 'v', 'v', 'v', 'v', 'v', 'v', 'v', 'v', 'v', 'v', 'v', 'v', 'v', 'v', 'v', 'v', 'v', 'v', 'v', 'v', 'v', 'v', 'v', 'v', 'v', 'v', 'v', 'v', 'v', 'v', 'v', 'v', 'v', 'v', 'v', 'v', 'v', 'v', 'v', 'v', 'v', 'v', 'v', 'v', 'v', 'v', 'v', 'v', 'v', 'v', 'v', 'v', 'v', 'v', 'v', 'v', 'v', 'v', 'v', 'v', 'v', 'v', 'v', 'v', 'v', 'v', 'v', 'v', 'v', 'v', 'v', 'v', 'v', 'v', 'v', 'v', 'v', 'v', 'v', 'v', 'v', 'v', 'v', 'v', 'v', 'v', 'v', 'v', 'v', 'v', 'v', 'v', 'v', 'v', 'v', 'v', 'v', 'v', 'v', 'v', 'v', 'v', 'v', 'v', 'v', 'v', 'v', 'v', 'v', 'v', 'v', 'v', 'v', 'v', 'v', 'v', 'v', 'v', 'v', 'v', 'v', 'v', 'v', 'v', 'v', 'v', 'v', 'v', 'v', 'v', 'v', 'v', 'v', 'v', 'v', 'v', 'v', 'v', 'v', 'v', 'v', 'v', 'v', 'v', 'v', 'v', 'v', 'v', 'v', 'v', 'v', 'v', 'v', 'v', 'v', 'v', 'v', 'v', 'v', 'v', 'v', 'v', 'v', 'v', 'v', 'v', 'v', 'v', 'v', 'v', 'v', 'v', 'v', 'v', 'v', 'v', 'v', 'v', 'v', 'v', 'v', 'v', 'v', 'v', 'v', 'v', 'v', 'v', 'v', 'v', 'v', 'v', 'v', 'v', 'v', 'v', 'v', 'v', 'v', 'v', 'v', 'v', 'v', 'v', 'v', 'v', 'v', 'v', 'v', 'v', 'v', 'v', 'v', 'v', 'v', 'v', 'v', 'v', 'v', 'v', 'v', 'v', 'v', 'v', 'v', 'v', 'v', 'v', 'v', 'v', 'v', 'v', 'v', 'v', 'v', 'v', 'v', 'v', 'v', 'v', 'v', 'v', 'v', 'v', 'v', 'v', 'v', 'v', 'v', 'v', 'v', 'v', 'v', 'v', 'v', 'v', 'v', 'v', 'v', 'v', 'v', 'v', 'v', 'v', 'v', 'v', 'v', 'v', 'v', 'v', 'v', 'v', 'v', 'v', 'v', 'v', 'v', 'v', 'v', 'v', 'v', 'v', 'v', 'v', 'v', 'v', 'v', 'v', 'v', 'v', 'v', 'v', 'v', 'v', 'v', 'v', 'v', 'v', 'v', 'v', 'v', 'v', 'v', 'v', 'v', 'v', 'v', 'v', 'v', 'v', 'v', 'v', 'v', 'v', 'v', 'v', 'v', 'v', 'v', 'v', 'v', 'v', 'v', 'v', 'v', 'v', 'v', 'v', 'v', 'v', 'v', 'v', 'v', 'v', 'v', 'v', 'v', 'v', 'v', 'v', 'v', 'v', 'v', 'v', 'v', 'v', 'v', 'v', 'v', 'v', 'v', 'v', 'v', 'v', 'v', 'v', 'v', 'v', 'v', 'v', 'v', 'v', 'v', 'v', 'v', 'v', 'v', 'v', 'v', 'v', 'v', 'v', 'v', 'v', 'v', 'v', 'v', 'v', 'v', 'v', 'v', 'v', 'v', 'v', 'v', 'v', 'v', 'v', 'v', 'v', 'v', 'v', 'v', 'v', 'v', 'v', 'v', 'v', 'v', 'v', 'v', 'v', 'v', 'v', 'v', 'v', 'v', 'v', 'v', 'v', 'v', 'v', 'v', 'v', 'v', 'v', 'v', 'v', 'v', 'v', 'v', 'v', 'v', 'v', 'v', 'v', 'v', 'v', 'v', 'v', 'v', 'v', 'v', 'v', 'v', 'v', 'v', 'v', 'v', 'v', 'v', 'v', 'v', 'v', 'v', 'v', 'v', 'v', 'v', 'v', 'v', 'v', 'v', 'v', 'v', 'v', 'v', 'v', 'v', 'v', 'v', 'v', 'v', 'v', 'v', 'v', 'v', 'v', 'v', 'v', 'v', 'v', 'v', 'v', 'v', 'v', 'v', 'v', 'v', 'v', 'v', 'v', 'v', 'v', 'v', 'v', 'v', 'v', 'v', 'v', 'v', 'v', 'v', 'v', 'v', 'v', 'v', 'v', 'v', 'v', 'v', 'v', 'v', 'v', 'v', 'v', 'v', 'v', 'v', 'v', 'v', 'v', 'v', 'v', 'v', 'v', 'v', 'v', 'v', 'v', 'v', 'v', 'v', 'v', 'v', 'v', 'v', 'v', 'v', 'v', 'v', 'v', 'v', 'v', 'v', 'v', 'v', 'v', 'v', 'v', 'v', 'v']\n"
          ]
        }
      ]
    },
    {
      "cell_type": "code",
      "source": [
        "dataframe['context_list_without_html']=context_list_without_html"
      ],
      "metadata": {
        "id": "qe3eygtzOL-Y"
      },
      "execution_count": 20,
      "outputs": []
    },
    {
      "cell_type": "code",
      "source": [
        "import nltk\n",
        "from nltk.stem import WordNetLemmatizer\n",
        "from nltk.corpus import wordnet\n",
        "\n",
        "nltk.download('averaged_perceptron_tagger')\n",
        "nltk.download('wordnet')\n",
        "\n",
        "# Define the lemmatizer\n",
        "lemmatizer = WordNetLemmatizer()\n",
        "\n",
        "# Define a function to convert NLTK's POS tags to WordNet's POS tags\n",
        "def get_wordnet_pos(nltk_pos):\n",
        "    if nltk_pos.startswith('J'):\n",
        "        return wordnet.ADJ\n",
        "    elif nltk_pos.startswith('V'):\n",
        "        return wordnet.VERB\n",
        "    elif nltk_pos.startswith('N'):\n",
        "        return wordnet.NOUN\n",
        "    elif nltk_pos.startswith('R'):\n",
        "        return wordnet.ADV\n",
        "    else:\n",
        "        return wordnet.NOUN  # by default, assume it's a noun\n",
        "\n",
        "# Load the dataset\n",
        "import pandas as pd\n",
        "\n",
        "\n",
        "# Lemmatize each sentence in the dataset\n",
        "lemmatized_sentences = []\n",
        "for sentence in dataframe['context_list_without_html']:\n",
        "    # Tokenize the sentence and get the POS tags\n",
        "    nltk_tokens = nltk.word_tokenize(sentence)\n",
        "    nltk_pos = nltk.pos_tag(nltk_tokens)\n",
        "    \n",
        "    # Convert the NLTK POS tags to WordNet POS tags\n",
        "    wordnet_pos = [(token, get_wordnet_pos(pos)) for token, pos in nltk_pos]\n",
        "    \n",
        "    # Lemmatize each word in the sentence\n",
        "    lemmatized_tokens = [lemmatizer.lemmatize(token, pos) for token, pos in wordnet_pos]\n",
        "    \n",
        "    # Join the lemmatized tokens back into a sentence\n",
        "    lemmatized_sentence = ' '.join(lemmatized_tokens)\n",
        "    lemmatized_sentences.append(lemmatized_sentence)\n",
        "\n",
        "# Add the lemmatized sentences to the dataset\n",
        "dataframe['lemmatized_text'] = lemmatized_sentences\n",
        "\n",
        "\n"
      ],
      "metadata": {
        "colab": {
          "base_uri": "https://localhost:8080/"
        },
        "id": "613j6PQPzP8h",
        "outputId": "e67239c5-c395-4d13-f3c8-046c1144adc0"
      },
      "execution_count": 23,
      "outputs": [
        {
          "output_type": "stream",
          "name": "stderr",
          "text": [
            "[nltk_data] Downloading package averaged_perceptron_tagger to\n",
            "[nltk_data]     /root/nltk_data...\n",
            "[nltk_data]   Package averaged_perceptron_tagger is already up-to-\n",
            "[nltk_data]       date!\n",
            "[nltk_data] Downloading package wordnet to /root/nltk_data...\n",
            "[nltk_data]   Package wordnet is already up-to-date!\n"
          ]
        }
      ]
    },
    {
      "cell_type": "code",
      "source": [
        "lemmatized_text=dataframe['lemmatized_text']\n",
        "print(lemmatized_text[0])"
      ],
      "metadata": {
        "colab": {
          "base_uri": "https://localhost:8080/"
        },
        "id": "3gbcdX2AO2fx",
        "outputId": "e3870383-33af-4c88-e862-44c44bae5878"
      },
      "execution_count": 30,
      "outputs": [
        {
          "output_type": "stream",
          "name": "stdout",
          "text": [
            "For another many gene carry plasmid specify resistance antibiotic kanamycin penicillin flank special DNA enables jump plasmid chromosome back one plasmid another Again jumping gene transposon cause chromosomal fluctuation Moreover chromosomes strain E coli contain enigmatic length DNA insertion sequence code know product move chromosome bacterial multiplication activate silence gene They present plasmid Finally chromosome even intrinsically stable mutates\n"
          ]
        }
      ]
    },
    {
      "cell_type": "code",
      "source": [
        "print(nltk_tokens)"
      ],
      "metadata": {
        "colab": {
          "base_uri": "https://localhost:8080/"
        },
        "id": "spI7BlwrRpeY",
        "outputId": "c503e842-c9ab-4eeb-d567-09f132dcf24e"
      },
      "execution_count": 36,
      "outputs": [
        {
          "output_type": "stream",
          "name": "stdout",
          "text": [
            "['I', 'mean', 'Sugar', 'Spice', 'example', 'Nigel', 'Williams', 'I', 'd', 'love', 'go', 'part', 'Sharon', 'sometime', 'I', 'think', 'anything', 'well', 'written', 's', 'important', 'AR', 'Being', 'well', 'written', 'AMANDA', 'Yes']\n"
          ]
        }
      ]
    },
    {
      "cell_type": "code",
      "source": [
        "train_list=[]\n",
        "for i in range(len(context_list_without_html)):\n",
        "  m=context_list_without_html[i].split()\n",
        "  b=lemmatized_text[i].split()\n",
        "  print(b)\n",
        "  z=word_disg[i]\n",
        "  n=b.index(z)\n",
        "  if n<9:\n",
        "    f=m[0:2*n+1]\n",
        "  else:\n",
        "    f=m[n-9:n+10]\n",
        "  s=' '.join(f)\n",
        "  train_list.append(s) \n",
        "\n",
        "  \n"
      ],
      "metadata": {
        "colab": {
          "base_uri": "https://localhost:8080/",
          "height": 707
        },
        "id": "xxOveI2TyYTw",
        "outputId": "ed364b83-25e7-432c-d445-c20a96c54225"
      },
      "execution_count": 59,
      "outputs": [
        {
          "output_type": "stream",
          "name": "stdout",
          "text": [
            "['For', 'another', 'many', 'gene', 'carry', 'plasmid', 'specify', 'resistance', 'antibiotic', 'kanamycin', 'penicillin', 'flank', 'special', 'DNA', 'enables', 'jump', 'plasmid', 'chromosome', 'back', 'one', 'plasmid', 'another', 'Again', 'jumping', 'gene', 'transposon', 'cause', 'chromosomal', 'fluctuation', 'Moreover', 'chromosomes', 'strain', 'E', 'coli', 'contain', 'enigmatic', 'length', 'DNA', 'insertion', 'sequence', 'code', 'know', 'product', 'move', 'chromosome', 'bacterial', 'multiplication', 'activate', 'silence', 'gene', 'They', 'present', 'plasmid', 'Finally', 'chromosome', 'even', 'intrinsically', 'stable', 'mutates']\n",
            "['The', 'Lake', 'District', 'fortunate', 'plenty', 'fast', 'running', 'water', 'always', 'available', 'town', 'cloth', 'full', 'come', 'area', 'many', 'place', 'Soap', 'locally', 'make', 'animal', 'fat', 'lime', 'mixed', 'potash', 'derive', 'burn', 'green', 'bracken', 'The', 'fulling', 'mill', 'large', 'wheel', 'turn', 'water', 'power', 'activate', 'wooden', 'hammer', 'rise', 'fall', 'cloth', 'soapy', 'water', 'After', 'full', 'cloth', 'well', 'rinse', 'reduce', '35', '27', 'width', 'take', 'tenter', 'ground', 'stretch', 'shape', 'fasten', 'hook', 'selvedge', 'attach', 'tenter', 'frame', 'It', 'capital', 'offence', 'steal', 'web', 'frame']\n",
            "['Estes', '1950', 'Neimark', 'Estes', '1967', 'Latent', 'inhibition', 'hold', 'consequence', 'formation', 'association', 'among', 'element', 'More', 'specifically', 'model', 'make', 'usual', 'associative', 'assumption', 'excitatory', 'link', 'establish', 'representation', 'element', 'activate', 'concurrently', 'Repeated', 'presentation', 'give', 'stimulus', 'therefore', 'allow', 'network', 'link', 'establish', 'among', 'element', 'go', 'make', 'particularly', 'strong', 'link', 'form', 'among', 'element', 'tend', 'sample', 'frequently', 'After', 'train', 'give', 'element', 'stimulus', 'apply', 'target', 'external', 'input', 'internal', 'input', 'way', 'associative', 'link', 'connect', 'element']\n",
            "['If', 'accept', 'case', 'argue', 'detail', 'respect', 'habituation', 'Chapter', '2', 'pp', '503', 'presentation', 'S2', 'modify', 'representation', 'S1', 'form', 'generalization', 'decrement', 'ensure', 'little', 'latent', 'inhibition', 'evident', 'S1', 'S2', 'pre', 'exposure', 'Kaye', 'et', 'al', '1988', 'b', 'support', 'interpretation', 'demonstrate', 'VS', 'pre', 'exposure', 'treatment', 'produce', 'perfectly', 'good', 'latent', 'inhibition', 'CS', 'use', 'condition', 'phase', 'vinegar', 'follow', 'sucrose', 'arrangement', 'ensure', 'representation', 'vinegar', 'activate', 'occasion', 'They', 'point', 'likelihood', 'generalization', 'decrement', 'effect', 'depend', 'upon', 'exact', 'nature', 'stimulus', 'pair', 'interact', 'others', 'combination', 'S1', 'S2', 'expect', 'generate', 'attenuation', 'latent', 'inhibition', 'Certainly', 'experiment', 'use', 'orthodox', 'condition', 'stimuli', 'tone', 'light', 'produce', 'scanty', 'evidence', 'presence', 'S2', 'influence', 'latent', 'inhibition']\n",
            "['1985', 'Odd', 'may', 'sound', 'idea', 'association', 'might', 'form', 'CS', 'absence', 'event', 'without', 'precedent', 'associative', 'theorize', 'Konorski', 's', '1967', 'well', 'developed', 'influential', 'theory', 'conditioning', 'deal', 'inhibitory', 'learn', 'assume', 'inhibitory', 'CS', 'one', 'activate', 'US', 'representation', 'See', 'also', 'Pearce', 'Hall', '1980', 'The', 'inhibitory', 'CS', 'suppose', 'owe', 'behavioural', 'effect', 'fact', 'activity', 'US', 'centre', 'inhibit', 'US', 'centre']\n",
            "['Latent', 'inhibition', 'training', 'expect', 'therefore', 'establish', 'network', 'association', 'among', 'component', 'part', 'go', 'make', 'stimulus', 'McLaren', 'Kaye', 'Mackintosh', '1989', 'make', 'use', 'suggestion', 'develop', 'account', 'latent', 'inhibition', 'Their', 'proposal', 'see', 'Chapter', '3', 'associability', 'element', 'activate', 'external', 'stimulation', 'enhance', 'element', 'lack', 'associative', 'connection', 'The', 'analysis', 'offer', 'interference', 'theory', 'similar', 'rather', 'simpler', 'existence', 'within', 'stimulus', 'association', 'interfere', 'ability', 'element', 'form', 'new', 'one', 'f', 'Conclusions']\n",
            "['And', 'tendency', 'respond', 'acquire', 'generalize', 'also', 'explain', 'discrimination', 'learning', 'require', 'subject', 'make', 'different', 'response', 'two', 'stimulus', 'retard', 'Although', 'S', 'R', 'terminology', 'seem', 'well', 'fit', 'case', 'verbal', 'label', 'possible', 'dispense', 'reliance', 'notion', 'response', 'produce', 'cue', 'central', 'S', 'R', 'theory', 'As', 'see', 'modern', 'theory', 'Pavlovian', 'conditioning', 'assume', 'stimuli', 'activate', 'representation', 'event', 'Such', 'theory', 'therefore', 'allow', 'associatively', 'activate', 'representation', 'may', 'support', 'generalization', 'stimulus', 'share', 'ability', 'elicit', 'activity', 'representation', 'Thus', 'A', 'B', 'could', 'become', 'directly', 'link', 'representation', 'stimulus', 'X', 'show', 'Fig', '510']\n",
            "['Stimuli', 'A', 'B', 'may', 'regard', 'physically', 'similar', 'extent', 'share', 'common', 'c', 'elements', 'The', 'mechanism', 'responsible', 'mediate', 'generalization', 'nothing', 'increase', 'number', 'proportion', 'element', 'thus', 'want', 'cite', 'mediate', 'generalization', 'characteristic', 'concept', 'formation', 'assert', 'real', 'sense', 'similarity', 'stimuli', 'change', 'But', 'come', 'issue', 'give', 'physical', 'stimulus', 'actually', 'perceive', 'chosen', 'represent', 'term', 'central', 'representational', 'element', 'activate', 'The', 'percept', 'initially', 'evoke', 'A', 'therefore', 'must', 'equate', 'c', 'element', 'activate', 'unconditionally', 'After', 'train', 'however', 'presentation', 'A', 'activate', 'also', 'element', 'circumstance', 'unconditionally', 'activate', 'stimulus', 'X', 'The', 'pattern', 'central', 'representation', 'thus', 'one', 'definition', 'percept', 'change', 'experience', 'make', 'phenomenon', 'instance', 'perceptual', 'learning', 'c', 'Acquired', 'distinctiveness', 'mechanism']\n",
            "['The', 'central', 'question', 'term', 'diagram', 'use', 'Fig', '511', 'see', 'also', 'Fig', '510', 'experience', 'A', 'B', 'reduce', 'effectiveness', 'c', 'element', 'produce', 'generalization', 'stimuli', 'The', 'critical', 'aspect', 'differentiation', 'theory', 'context', 'assertion', 'exposure', 'A', 'B', 'lead', 'increase', 'number', 'distinctive', 'feature', 'detect', 'This', 'must', 'mean', 'term', 'figure', 'increase', 'number', 'b', 'element', 'activate', 'stimuli', 'something', 'represent', 'diagrammatically', 'one', 'way', 'Figure', '511', 'b', 'show', 'increase', 'area', 'b', 'consequent', 'reduction', 'proportion', 'although', 'absolute', 'number', 'c', 'element', 'activated', 'stimulus', 'figure', '511', 'c', 'present', 'slightly', 'different', 'possibility', 'size', 'A', 'B', 'circle', 'change']\n",
            "['To', 'understand', 'identify', 'like', 'say', 'To', 'experience', 'To', 'attempt', 'intuition', 'evil', 'understand', 'enact', 'activate', 'reveal', 'evil', 'one', 's', 'soul', 'To', 'unmask', 'destroy', 'one', 's', 'evil', 'And', 'become', 'judge']\n",
            "['What', 'see', 'take', 'second', 'place', 'act', 'see', 'Much', 'see', 'furthermore', 'reality', 'narrator', 's', 'experience', 'conveys', 'impression', 'see', 'already', 'For', 'doubt', 'self', 'irony', 'Palomar', 'still', 'want', 'penetrate', 'secret', 'world', 'end', 'see', 'act', 'mean', 'activate', 'thoughtfulness', 'language', 'Whether', 'exploration', 'language', 'risk', 'self', 'defeat', 'successful', 'another', 'question', 'But', 'compare', 'world', 'De', 'Carlo', 's', 'first', 'novel', 'information', 'garner', 'eye', 'lead', 'critical', 'interrogation', 'reality', 'Palomar', 's', 'Calvino', 's', 'project', 'seem', 'almost', 'hopeful']\n",
            "['Often', 'describe', 'automatic', 'dosing', 'equipment', 'one', 'two', 'delivery', 'system', 'detergent', 'rinse', 'additive', 'fit', 'Detergent', 'system', 'operate', 'mean', 'electronic', 'sensor', 'fit', 'wash', 'tank', 'machine', 'circulation', 'tank', 'CIP', 'system', 'The', 'sensor', 'measure', 'alkalinity', 'level', 'fall', 'pre', 'set', 'value', 'activate', 'pump', 'delivers', 'product', 'bulk', 'container', 'tank', 'sufficient', 'quantity', 'make', 'solution', 'desire', 'strength', 'Rinse', 'additive', 'system', 'work', 'sensor', 'link', 'rinse', 'cycle', 'actuator', 'rinse', 'water', 'pump', 'meter', 'dose', 'rinse', 'additive', 'deliver', 'Feed', 'system', 'vary', 'accord', 'whether', 'liquid', 'powder', 'detergent', 'used', 'system', 'use']\n",
            "['Dodging', 'motorize', 'patrol', 'sent', 'cut', 'make', 'cross', 'point', 'dawn', 'break', 'manage', 'shove', 'coax', 'truck', 'steep', 'track', 'Just', 'reach', 'top', 'comparative', 'safety', 'Lilley', 'yell', 'everyone', 'bale', 'He', 'smelt', 'burn', 'realize', 'time', 'pencil', 'one', 'bomb', 'activate', 'They', 'twenty', 'second', 'Johnny', 'Cooper', 'still', 'vivid', 'memory', 'frighten', 'moment']\n",
            "['However', 'recovery', 'usually', 'happen', 'The', 'brain', 'need', 'information', 'provide', 'experience', 'control', 'movement', 'order', 'respond', 'ability', 'produce', 'movement', 'control', 'The', 'information', 'require', 'proprioceptive', 'provide', 'kind', 'internal', 'sensation', 'perception', 'order', 'activate', 'correct', 'response', 'The', 'physiotherapist', 'analyse', 'kind', 'proprioceptive', 'information', 'patient', 'need', 'order', 'relearn', 'move', 'normally', 'different', 'every', 'patient', 'Then', 'work', 'deliver', 'information', 'patient', 'effective', 'way']\n",
            "['Nevertheless', 'acquiescence', 'successive', 'Home', 'Secretaries', 'without', 'support', 'Parliament', 'see', 'grow', 'centralization', 'police', 'conduct', 'recent', 'year', 'This', 'base', 'upon', 'National', 'Reporting', 'Centre', 'operate', 'Scotland', 'Yard', 'Set', '1972', 'NRC', 'permanent', 'body', 'activate', 'time', 'crisis', 'miner', 'strike', 'two', 'development', 'particular', 'importance', 'emerge', 'The', 'first', 'NRC', 'co', 'ordinate', 'strategy', 'deployment', 'officer', 'national', 'basis', 'consultation', 'Home', 'Office', 'may', 'well', 'keen', 'political', 'interest', 'matter', 'hand', 'Secondly', 'co', 'ordination', 'strategy', 'believe', 'NRC', 'give', 'police', 'order', 'local', 'force', 'thereby', 'overrule', 'operational', 'discretion', 'local', 'force']\n",
            "['This', 'imply', 'signal', 'HeLa', 'cell', 'cytoplasm', 'enter', 'chick', 'nucleus', 'bring', 'gene', 'activation', 'Another', 'example', 'illustrate', 'importance', 'cytoplasmic', 'factor', 'continually', 'control', 'gene', 'activity', 'come', 'fusing', 'mature', 'muscle', 'cell', 'cell', 'completely', 'different', 'type', 'Mature', 'striate', 'muscle', 'cell', 'make', 'muscle', 'specific', 'proteins', 'cell', 'fuse', 'variety', 'cell', 'type', 'include', 'liver', 'cartilage', 'cell', 'muscle', 'specific', 'gene', 'activate', 'cell', 'lead', 'production', 'muscle', 'specific', 'proteins', 'Identification', 'new', 'muscle', 'protein', 'make', 'possible', 'fusing', 'human', 'cell', 'mouse', 'muscle', 'cell', 'human', 'muscle', 'protein', 'similar', 'distinct', 'make', 'mouse', 'There', 'doubt', 'experiment', 'importance', 'factor', 'cytoplasm', 'control', 'gene', 'action']\n",
            "['That', 'control', 'gene', 'activity', 'characterize', 'particular', 'cell', 'type', 'due', 'specific', 'factor', 'cell', 'act', 'promoter', 'come', 'experiment', 'promoter', 'element', 'switch', 'around', 'Genetic', 'engineering', 'make', 'possible', 'join', 'promoter', 'one', 'gene', 'another', 'When', 'DNA', 'construct', 'incorporate', 'DNA', 'develop', 'embryo', 'protein', 'make', 'cell', 'promoter', 'activate', 'even', 'protein', 'quite', 'inappropriate', 'cell', 'Growth', 'hormone', 'protein', 'make', 'pituitary', 'gland', 'base', 'brain', 'It', 'essential', 'normal', 'growth', 'secrete', 'pituitary', 'carry', 'blood', 'part', 'body', 'Chapter', '10']\n",
            "['Many', 'copy', 'inject', 'inserted', 'almost', 'randomly', 'DNA', 'nucleus', 'fertilize', 'mouse', 'egg', 'The', 'egg', 'allow', 'develop', 'cell', 'embryo', 'contain', 'multiple', 'copy', 'growth', 'hormone', 'gene', 'new', 'promoter', 'Shortly', 'birth', 'mouse', 'feed', 'water', 'contain', 'trace', 'metal', 'activate', 'inject', 'construct', 'result', 'mouse', 'almost', 'twice', 'size', 'normal', 'mouse', 'affectionately', 'label', 'Supermouse', 'The', 'growth', 'hormone', 'gene', 'turn', 'cell', 'throughout', 'body', 'increased', 'production', 'growth', 'hormone', 'result', 'increased', 'growth', 'Supermouse', 'know', 'transgenic', 'mouse']\n",
            "['The', 'state', 'cell', 'principle', 'describe', 'genetic', 'activity', 'gene', 'switch', 'Development', 'sense', 'view', 'term', 'change', 'network', 'gene', 'activity', 'different', 'cell', 'Activation', 'one', 'gene', 'lead', 'synthesis', 'protein', 'activate', 'gene', 'inhibits', 'others', 'turn', 'may', 'control', 'yet', 'gene', 'It', 'yet', 'clear', 'complex', 'network', 'gene', 'activity', 'One', 'possibility', 'master', 'gene', 'whose', 'product', 'control', 'activity', 'many', 'others']\n",
            "['But', 'commits', 'muscle', 'final', 'pathway', 'ensure', 'necessary', 'gene', 'turn', 'time', 'In', 'case', 'muscle', 'seem', 'master', 'gene', 'control', 'expression', 'main', 'gene', 'know', 'myogenin', 'always', 'switch', 'mature', 'muscle', 'cell', 'Its', 'special', 'property', 'activate', 'gene', 'require', 'mature', 'muscle', 'The', 'myogenin', 'gene', 'isolate', 'introduced', 'non', 'muscle', 'cell', 'becomes', 'integrated', 'DNA', 'The', 'effect', 'introduce', 'one', 'gene', 'switch', 'gene', 'set', 'train', 'sequence', 'gene', 'activation', 'cell', 'develop', 'muscle', 'cell', 'appropriate', 'protein', 'master', 'gene', 'appropriate', 'description']\n",
            "['The', 'effect', 'introduce', 'one', 'gene', 'switch', 'gene', 'set', 'train', 'sequence', 'gene', 'activation', 'cell', 'develop', 'muscle', 'cell', 'appropriate', 'protein', 'master', 'gene', 'appropriate', 'description', 'But', 'whether', 'peculiar', 'muscle', 'whether', 'master', 'gene', 'find', 'remains', 'discover', 'One', 'imagine', 'external', 'signal', 'could', 'activate', 'gene', 'like', 'myogenin', 'guide', 'cell', 'muscle', 'pathway', 'Such', 'branch', 'point', 'crucial', 'development', 'diversity', 'particularly', 'clear', 'development', 'blood', 'cell', 'red', 'blood', 'cell', 'one', 'representative', 'THE', 'BLOOD', 'LINEAGE']\n",
            "['Thromboxane', 'A', '2', 'powerful', 'pro', 'aggregatory', 'substance', 'platelet', 'endoperoxides', 'propose', 'arachidonic', 'acid', 'metabolite', 'mediates', 'platelet', 'aggregation', 'release', 'reaction', 'Hamberg', 'et', 'al', '1975', 'Whether', 'platelet', 'endo', 'peroxide', 'proaggregatory', 'role', 'right', 'convert', 'thromboxane', 'A', '2', 'subject', 'many', 'study', 'Bunting', 'et', 'al', '1983', 'However', 'experiment', 'use', 'thromboxane', 'synthetase', 'inhibitor', 'appear', 'platelet', 'activate', 'prostaglandin', 'cascade', 'trigger', 'release', 'endogenous', 'arachidonic', 'acid', 'endoperoxides', 'generate', 'exert', 'proaggregatory', 'effect', 'conversion', 'potent', 'compound', 'thromboxane', 'A', '2', 'However', 'thromboxane', 'generation', 'suppress', 'probable', 'endoperoxides', 'proaggregatory', 'Bunting', 'et', 'al', '1983', 'It', 'propose', 'endoperoxides', 'thromboxane', 'A', '2', 'activate', 'platelet', 'act', 'calcium', 'ionophores', 'hence', 'mobilise', 'intracellular', 'free', 'calcium', 'Gerrard', 'et', 'al', '1978']\n",
            "['However', 'experiment', 'use', 'thromboxane', 'synthetase', 'inhibitor', 'appear', 'platelet', 'activate', 'prostaglandin', 'cascade', 'trigger', 'release', 'endogenous', 'arachidonic', 'acid', 'endoperoxides', 'generate', 'exert', 'proaggregatory', 'effect', 'conversion', 'potent', 'compound', 'thromboxane', 'A', '2', 'However', 'thromboxane', 'generation', 'suppress', 'probable', 'endoperoxides', 'proaggregatory', 'Bunting', 'et', 'al', '1983', 'It', 'propose', 'endoperoxides', 'thromboxane', 'A', '2', 'activate', 'platelet', 'act', 'calcium', 'ionophores', 'hence', 'mobilise', 'intracellular', 'free', 'calcium', 'Gerrard', 'et', 'al', '1978', 'However', 'prostaglandins', 'induce', 'platelet', 'aggregation', 'cause', 'monophasic', 'reversible', 'primary', 'response', 'low', 'concentration', 'monophasic', 'irreversible', 'secondary', 'response', 'high', 'concentration', 'In', 'way', 'activation', 'platelet', 'prostaglandins', 'resembles', 'produce', 'ADP', 'adrenaline']\n",
            "['There', 'variety', 'sulphonylurea', 'agent', 'available', 'therapy', 'diet', 'fail', 'non', 'insulin', 'dependent', 'diabetic', 'subject', 'vary', 'mainly', 'half', 'life', 'mode', 'excretion', 'In', 'addition', 'hypoglycaemic', 'action', 'probable', 'compound', 'may', 'antiplatelet', 'effect', 'Thus', 'gliclazide', 'depress', 'various', 'parameter', 'platelet', 'function', 'vitro', 'appear', 'inhibit', 'arachidonate', 'release', 'platelet', 'phospholipid', 'Tsuboi', 'et', 'al', '1981', 'activate', 'platelet', 'adenylate', 'cyclase', 'lead', 'increased', 'level', 'cyclic', 'AMP', 'Lagarde', 'et', 'al', '1975', 'In', 'addition', 'ex', 'vivo', 'platelet', 'aggregation', 'ADP', 'adrenaline', 'significantly', 'reduce', 'diabetic', 'subject', 'treat', 'year', 'therapeutic', 'dos', 'gliclazide', 'Poari', 'et', 'al', '1979', 'These', 'author', 'consider', 'antiplatelet', 'action', 'observe', 'unrelated', 'effect', 'glycaemic', 'control', 'two', 'effect', 'dissociate', 'time', 'Poari', 'et', 'al', '1979']\n",
            "['Instead', 'I', 'warm', 'retrace', 'predawn', 'walk', 'Cross', 'I', 'would', 'collect', 'big', 'rucksack', 'last', 'bus', 'Stornoway', 'I', 'pass', 'township', 'kiss', 'like', 'Sleeping', 'Beauty', 'Prince', 'Not', 'appropriate', 'analogy', 'fairy', 'tale', 'pantomimes', 'Devil', 's', 'tool', 'I', 'm', 'sure', 'Ness', 'District', 'delete', 'Devil', 's', 'Dance', 'SCO', 'poster', 'asleep', 'activate', 'Chattering', 'starling', 'continual', 'dog', 'barking', 'backdropped', 'carry', 'voice', 'pellucid', 'late', 'afternoon', 'air', 'Those', 'puff', 'chimney', 'strong', 'peat', 'reek']\n",
            "['Again', 'method', 'well', 'documented', 'wish', 'read', 'What', 'interesting', 'outer', 'negative', 'force', 'seek', 'within', 'data', 'leave', 'brain', 'evidence', 'failure', 'give', 'subject', 'This', 'tangible', 'negative', 'force', 'activates', 'leave', 'side', 'brain', 'project', 'onto', 'inner', 'screen', 'mind', 'failure', 'mention', 'earlier', 'This', 'destroy', 'impetus', 'courage', 'confront', 'fear', 'With', 'loss', 'hope', 'want', 'try']\n"
          ]
        },
        {
          "output_type": "error",
          "ename": "ValueError",
          "evalue": "ignored",
          "traceback": [
            "\u001b[0;31m---------------------------------------------------------------------------\u001b[0m",
            "\u001b[0;31mValueError\u001b[0m                                Traceback (most recent call last)",
            "\u001b[0;32m<ipython-input-59-d802d0e41ecf>\u001b[0m in \u001b[0;36m<cell line: 2>\u001b[0;34m()\u001b[0m\n\u001b[1;32m      5\u001b[0m   \u001b[0mprint\u001b[0m\u001b[0;34m(\u001b[0m\u001b[0mb\u001b[0m\u001b[0;34m)\u001b[0m\u001b[0;34m\u001b[0m\u001b[0;34m\u001b[0m\u001b[0m\n\u001b[1;32m      6\u001b[0m   \u001b[0mz\u001b[0m\u001b[0;34m=\u001b[0m\u001b[0mword_disg\u001b[0m\u001b[0;34m[\u001b[0m\u001b[0mi\u001b[0m\u001b[0;34m]\u001b[0m\u001b[0;34m\u001b[0m\u001b[0;34m\u001b[0m\u001b[0m\n\u001b[0;32m----> 7\u001b[0;31m   \u001b[0mn\u001b[0m\u001b[0;34m=\u001b[0m\u001b[0mb\u001b[0m\u001b[0;34m.\u001b[0m\u001b[0mindex\u001b[0m\u001b[0;34m(\u001b[0m\u001b[0mz\u001b[0m\u001b[0;34m)\u001b[0m\u001b[0;34m\u001b[0m\u001b[0;34m\u001b[0m\u001b[0m\n\u001b[0m\u001b[1;32m      8\u001b[0m   \u001b[0;32mif\u001b[0m \u001b[0mn\u001b[0m\u001b[0;34m<\u001b[0m\u001b[0;36m9\u001b[0m\u001b[0;34m:\u001b[0m\u001b[0;34m\u001b[0m\u001b[0;34m\u001b[0m\u001b[0m\n\u001b[1;32m      9\u001b[0m     \u001b[0mf\u001b[0m\u001b[0;34m=\u001b[0m\u001b[0mm\u001b[0m\u001b[0;34m[\u001b[0m\u001b[0;36m0\u001b[0m\u001b[0;34m:\u001b[0m\u001b[0;36m2\u001b[0m\u001b[0;34m*\u001b[0m\u001b[0mn\u001b[0m\u001b[0;34m+\u001b[0m\u001b[0;36m1\u001b[0m\u001b[0;34m]\u001b[0m\u001b[0;34m\u001b[0m\u001b[0;34m\u001b[0m\u001b[0m\n",
            "\u001b[0;31mValueError\u001b[0m: 'activate' is not in list"
          ]
        }
      ]
    }
  ]
}